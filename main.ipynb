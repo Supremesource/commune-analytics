{
 "cells": [
  {
   "cell_type": "code",
   "execution_count": 1,
   "id": "957b0aa1-9805-4daa-b4e2-c7157d8a63f7",
   "metadata": {
    "tags": []
   },
   "outputs": [
    {
     "name": "stdout",
     "output_type": "stream",
     "text": [
      "individual accounts, and their dump / transfer stack\n",
      "5GekCtvcjBA5RssJGVFptQZ99w6j4Am3TuTkW78p38zB8Umz: 746092.047142629\n",
      "5CwDuQN67okvsPiFv46MauwPY5igbCfRjzeCxyKdgd8aoagF: 288025.054113565\n",
      "5Gb7R56Ja6VVxVC91rGqzsfchucxqakKyB8pPxs5ERnuLzSG: 237646.401393863\n",
      "5FKZA9aqRuvYiZVVh2WTrtjVYmWAre9Rw462FWLkc8VhCcka: 225781.254083815\n",
      "5C7aZ2JWC4QneBTEppovyMMuNooRwkwQ118PsMcPcqvAbFTE: 199999.701394364\n",
      "5Cwg8ne3DJsmnhLAWqJ4nj4CQEyTN2se6bdKsEw5VKqyQV3P: 149999.710822714\n",
      "5GQncmGPze7UFqb2eTchxPPes5quzyNuGA6iiPY1rhpfyQRg: 140543.349760541\n",
      "5Dsy7pPwFuAtccQsBuzYr59uHbA9Fege6dFc4au6F49bTR3j: 138999.701394363\n",
      "5GuyTDRUWMF9XwWaGhRXFTyg5SiqLxk6wP49CA4JcXMUS2Mr: 122676.076089691\n",
      "5GQpe94sZPxcBATZKANkRvZb39cv4yqMdUNdCZtdGjwVUTfF: 121862.503290855\n"
     ]
    }
   ],
   "source": [
    "import requests\n",
    "import json\n",
    "from typing import Any\n",
    "from collections import defaultdict\n",
    "\n",
    "TOKEN_DECIMALS: int = 9\n",
    "first_n = 10\n",
    "\n",
    "url = \"https://api.subquery.network/sq/CommuneExplorer/commune-indexer\"\n",
    "\n",
    "def get_query(address: str) -> dict[Any, Any]:\n",
    "    return f\"\"\"\n",
    "    query{{\n",
    "      transfers(\n",
    "        filter: {{\n",
    "          or:  [ \n",
    "          {{\n",
    "            to: {{ equalTo: \"{address}\" }}\n",
    "          }}\n",
    "          ]\n",
    "        }}\n",
    "        orderBy: AMOUNT_DESC\n",
    "      ) {{\n",
    "        nodes {{\n",
    "          to\n",
    "          from\n",
    "          blockNumber\n",
    "          amount\n",
    "        }}\n",
    "      }}\n",
    "    }}\n",
    "    \"\"\"\n",
    "\n",
    "\n",
    "def aggregate_rewards(dict: [Any, Any]):\n",
    "    pass\n",
    "    \n",
    "def get_transfer_data(wallet: str) -> dict[Any, Any] | None:\n",
    "    query = get_query(wallet)\n",
    "    payload = {\"query\": query}\n",
    "    headers = {\"Content-Type\": \"application/json\"}\n",
    "    response = requests.post(url, json=payload, headers=headers)\n",
    "    if response.status_code == 200:\n",
    "        return response.json()\n",
    "    else:\n",
    "        print(f\"Request failed with status code: {response.status_code}\")\n",
    "        exit(1)\n",
    "\n",
    "# This aggregates complete transfer analysis, unique wallets, with aggregated sorted transfer amounts.\n",
    "def process_transfer_data(data: Any, wallet: str) -> dict[str, float]:\n",
    "    output: dict[str, float] = {}\n",
    "    wallet_totals = defaultdict(int)\n",
    "    for transfer in data['data']['transfers']['nodes']:\n",
    "        if transfer[\"to\"] == wallet:\n",
    "            wallet_totals[transfer['from']] += int(transfer['amount'])\n",
    "\n",
    "    sorted_wallets = sorted(wallet_totals.items(), key=lambda x: x[1], reverse=True)\n",
    "\n",
    "    for wallet, total in sorted_wallets:\n",
    "        output[wallet] = total / 10**TOKEN_DECIMALS\n",
    "   \n",
    "    return output\n",
    "        \n",
    "# Figure out what accounts are transfering the most to exchanges        \n",
    "def get_mexc_data() -> dict[str, float]:\n",
    "    # this can be repeated for other exchanges in the future\n",
    "    mexc_hotwallet: str = \"5Ey2oJtrRiRYceYdESf647xKJzKJuWjnpuBSegnaWoSAJnDN\"\n",
    "    data = get_transfer_data(mexc_hotwallet)\n",
    "    return process_transfer_data(data, mexc_hotwallet)\n",
    "\n",
    "\n",
    "print(\"individual accounts, and their dump / transfer stack\")\n",
    "mexc_data = (get_mexc_data())\n",
    "for k, v in list(mexc_data.items())[:first_n]:\n",
    "    print(f\"{k}: {v}\")"
   ]
  },
  {
   "cell_type": "code",
   "execution_count": 3,
   "id": "40713b96-13a9-485a-b45b-6e5fe1a8edd5",
   "metadata": {},
   "outputs": [
    {
     "ename": "ModuleNotFoundError",
     "evalue": "No module named 'tabulate'",
     "output_type": "error",
     "traceback": [
      "\u001b[0;31m---------------------------------------------------------------------------\u001b[0m",
      "\u001b[0;31mModuleNotFoundError\u001b[0m                       Traceback (most recent call last)",
      "Cell \u001b[0;32mIn[3], line 2\u001b[0m\n\u001b[1;32m      1\u001b[0m \u001b[38;5;66;03m# Now figure out where the accounts are getting the tokens from, we will go over first n\u001b[39;00m\n\u001b[0;32m----> 2\u001b[0m \u001b[38;5;28;01mimport\u001b[39;00m \u001b[38;5;21;01mtabulate\u001b[39;00m\n\u001b[1;32m      4\u001b[0m \u001b[38;5;28;01mfor\u001b[39;00m address, amount \u001b[38;5;129;01min\u001b[39;00m \u001b[38;5;28mlist\u001b[39m(mexc_data\u001b[38;5;241m.\u001b[39mitems())[:first_n]:\n\u001b[1;32m      5\u001b[0m     \u001b[38;5;28mprint\u001b[39m(\u001b[38;5;124mf\u001b[39m\u001b[38;5;124m\"\u001b[39m\u001b[38;5;124mto \u001b[39m\u001b[38;5;132;01m{\u001b[39;00maddress\u001b[38;5;132;01m}\u001b[39;00m\u001b[38;5;124m, with the amount of \u001b[39m\u001b[38;5;132;01m{\u001b[39;00mamount\u001b[38;5;132;01m}\u001b[39;00m\u001b[38;5;124m\"\u001b[39m)\n",
      "\u001b[0;31mModuleNotFoundError\u001b[0m: No module named 'tabulate'"
     ]
    }
   ],
   "source": [
    "# Now figure out where the accounts are getting the tokens from, we will go over first n\n",
    "import tabulate\n",
    "\n",
    "for address, amount in list(mexc_data.items())[:first_n]:\n",
    "    print(f\"to {address}, with the amount of {amount}\")\n",
    "    print(\"==================\")\n",
    "    data = get_transfer_data(address)\n",
    "    processed = (process_transfer_data(data, address))\n",
    "    for k, v in processed.items():\n",
    "        print(f\"from {k}, with the amount of {v}\")\n",
    "    print(\"---------------\")\n",
    "    "
   ]
  },
  {
   "cell_type": "code",
   "execution_count": null,
   "id": "d2d08bcb-0c58-4b66-b34f-ad361245635d",
   "metadata": {},
   "outputs": [],
   "source": []
  },
  {
   "cell_type": "code",
   "execution_count": null,
   "id": "3ec68b66-28da-47a3-abff-ace4aff08ff8",
   "metadata": {},
   "outputs": [],
   "source": []
  }
 ],
 "metadata": {
  "kernelspec": {
   "display_name": "Python 3 (ipykernel)",
   "language": "python",
   "name": "python3"
  },
  "language_info": {
   "codemirror_mode": {
    "name": "ipython",
    "version": 3
   },
   "file_extension": ".py",
   "mimetype": "text/x-python",
   "name": "python",
   "nbconvert_exporter": "python",
   "pygments_lexer": "ipython3",
   "version": "3.10.9"
  }
 },
 "nbformat": 4,
 "nbformat_minor": 5
}
